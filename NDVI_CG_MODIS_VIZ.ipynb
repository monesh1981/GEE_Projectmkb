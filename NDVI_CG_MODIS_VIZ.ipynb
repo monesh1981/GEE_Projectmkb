{
  "nbformat": 4,
  "nbformat_minor": 0,
  "metadata": {
    "colab": {
      "provenance": [],
      "authorship_tag": "ABX9TyOMZTGsjtXzoMixq61Rv8V1",
      "include_colab_link": true
    },
    "kernelspec": {
      "name": "python3",
      "display_name": "Python 3"
    },
    "language_info": {
      "name": "python"
    }
  },
  "cells": [
    {
      "cell_type": "markdown",
      "metadata": {
        "id": "view-in-github",
        "colab_type": "text"
      },
      "source": [
        "<a href=\"https://colab.research.google.com/github/monesh1981/GEE_Projectmkb/blob/main/NDVI_CG_MODIS_VIZ.ipynb\" target=\"_parent\"><img src=\"https://colab.research.google.com/assets/colab-badge.svg\" alt=\"Open In Colab\"/></a>"
      ]
    },
    {
      "cell_type": "markdown",
      "source": [
        "**Importing the Required Libraries**\n",
        "\n",
        "ee: The Earth Engine (EE) API, which allows you to access and process satellite imagery and geospatial data.\n",
        "\n",
        "geemap: A Python package that provides an easy-to-use interface for visualizing and analyzing Earth Engine data with interactive maps (built on folium and ipyleaflet).\n",
        "\n",
        "**Authenticating with Earth Engine**\n",
        "\n",
        "This line authenticates Google Earth Engine account.\n",
        "The first time we run it, it will ask for authentication via my Google account.\n",
        "Once authenticated, it allows Python to communicate with GEE.\n",
        "\n",
        "**Initializing the Earth Engine**\n",
        "\n",
        "Initializes the Earth Engine client.\n",
        "The project='ee-moneshbathre' argument specifies the GEE Cloud Project in which computations will be performed.\n",
        "\n",
        "**Creating an Interactive Map**\n",
        "\n",
        "Creates an interactive map widget using geemap.\n",
        "We can add satellite imagery, vector layers, and other geospatial datasets to this map.\n",
        "\n"
      ],
      "metadata": {
        "id": "litqFW6kolUp"
      }
    },
    {
      "cell_type": "code",
      "execution_count": 57,
      "metadata": {
        "id": "T7O786TDa6b6",
        "colab": {
          "base_uri": "https://localhost:8080/",
          "height": 17
        },
        "outputId": "8de130bd-8aad-4b9d-c15b-c2e7dd36966d"
      },
      "outputs": [
        {
          "output_type": "display_data",
          "data": {
            "text/plain": [
              "<IPython.core.display.HTML object>"
            ],
            "text/html": [
              "\n",
              "            <style>\n",
              "                .geemap-dark {\n",
              "                    --jp-widgets-color: white;\n",
              "                    --jp-widgets-label-color: white;\n",
              "                    --jp-ui-font-color1: white;\n",
              "                    --jp-layout-color2: #454545;\n",
              "                    background-color: #383838;\n",
              "                }\n",
              "\n",
              "                .geemap-dark .jupyter-button {\n",
              "                    --jp-layout-color3: #383838;\n",
              "                }\n",
              "\n",
              "                .geemap-colab {\n",
              "                    background-color: var(--colab-primary-surface-color, white);\n",
              "                }\n",
              "\n",
              "                .geemap-colab .jupyter-button {\n",
              "                    --jp-layout-color3: var(--colab-primary-surface-color, white);\n",
              "                }\n",
              "            </style>\n",
              "            "
            ]
          },
          "metadata": {}
        }
      ],
      "source": [
        "import ee\n",
        "import geemap\n",
        "ee.Authenticate()\n",
        "ee.Initialize(project = 'ee-moneshbathre')\n",
        "map = geemap.Map()\n"
      ]
    },
    {
      "cell_type": "markdown",
      "source": [
        "** Loading the Feature Collection**\n",
        "\n",
        " ee.FeatureCollection(...): Loads a FeatureCollection from your GEE assets.\n",
        "\n",
        "\"projects/ee-moneshbathre/assets/chattisgarh_bdy\": This is the path to uploaded asset, which contains the boundary of Chhattisgarh, India.\n",
        "\n",
        "**Adding the Layer to the Map**\n",
        "\n",
        "map.addLayer(...) adds the FeatureCollection (cg_bdy) to the interactive geemap map.\n",
        "\n",
        "{}: Empty dictionary means default styling (no specific color or symbology).\n",
        "\"Chattisgarh_boundary\": The name of the layer in the map legend.\n",
        "\n",
        "**Centering the Map on the Boundary**\n",
        "\n",
        "Loads the Chhattisgarh boundary from GEE assets.\n",
        "Displays it on the interactive map.\n",
        "Centers the map on Chhattisgarh with an appropriate zoom level.\n",
        "\n",
        "\n"
      ],
      "metadata": {
        "id": "JWkKZ7yookc4"
      }
    },
    {
      "cell_type": "code",
      "source": [
        "cg_bdy = ee.FeatureCollection(\"projects/ee-moneshbathre/assets/chattisgarh_bdy\")\n",
        "map.addLayer(cg_bdy,{},\"Chattisgarh_boundary\")\n",
        "map.centerObject(cg_bdy,10)"
      ],
      "metadata": {
        "id": "sTXml_8Cxk-q",
        "colab": {
          "base_uri": "https://localhost:8080/",
          "height": 17
        },
        "outputId": "af39f58a-9637-4ebc-e370-b6233301acc4"
      },
      "execution_count": 58,
      "outputs": [
        {
          "output_type": "display_data",
          "data": {
            "text/plain": [
              "<IPython.core.display.HTML object>"
            ],
            "text/html": [
              "\n",
              "            <style>\n",
              "                .geemap-dark {\n",
              "                    --jp-widgets-color: white;\n",
              "                    --jp-widgets-label-color: white;\n",
              "                    --jp-ui-font-color1: white;\n",
              "                    --jp-layout-color2: #454545;\n",
              "                    background-color: #383838;\n",
              "                }\n",
              "\n",
              "                .geemap-dark .jupyter-button {\n",
              "                    --jp-layout-color3: #383838;\n",
              "                }\n",
              "\n",
              "                .geemap-colab {\n",
              "                    background-color: var(--colab-primary-surface-color, white);\n",
              "                }\n",
              "\n",
              "                .geemap-colab .jupyter-button {\n",
              "                    --jp-layout-color3: var(--colab-primary-surface-color, white);\n",
              "                }\n",
              "            </style>\n",
              "            "
            ]
          },
          "metadata": {}
        }
      ]
    },
    {
      "cell_type": "markdown",
      "source": [
        "**Loading the MODIS NDVI Data**\n",
        "\n",
        "ee.ImageCollection(\"MODIS/061/MOD13A2\"): Loads the MODIS Terra Vegetation Indices (MOD13A2) dataset.\n",
        "\n",
        "select(\"NDVI\"): Extracts only the NDVI band from the dataset.\n",
        "\n",
        "**Adding NDVI to the Map**\n",
        "\n",
        "This adds the NDVI data as a layer to the interactive map.\n",
        "{}: No visualization parameters are defined, so it may not appear correctly.\n",
        "\"ndvi\": Layer name.\n",
        "\n",
        "\n",
        "\n",
        "\n"
      ],
      "metadata": {
        "id": "jYRbddkYtPlb"
      }
    },
    {
      "cell_type": "code",
      "source": [
        "ndvi = ee.ImageCollection(\"MODIS/061/MOD13A2\").select(\"NDVI\")\n",
        "map.addLayer(ndvi,{},\"ndvi\")"
      ],
      "metadata": {
        "colab": {
          "base_uri": "https://localhost:8080/",
          "height": 17
        },
        "collapsed": true,
        "id": "wp7Ole5Dns5C",
        "outputId": "93b909a1-f760-4ee8-af12-7cda7b879296"
      },
      "execution_count": 59,
      "outputs": [
        {
          "output_type": "display_data",
          "data": {
            "text/plain": [
              "<IPython.core.display.HTML object>"
            ],
            "text/html": [
              "\n",
              "            <style>\n",
              "                .geemap-dark {\n",
              "                    --jp-widgets-color: white;\n",
              "                    --jp-widgets-label-color: white;\n",
              "                    --jp-ui-font-color1: white;\n",
              "                    --jp-layout-color2: #454545;\n",
              "                    background-color: #383838;\n",
              "                }\n",
              "\n",
              "                .geemap-dark .jupyter-button {\n",
              "                    --jp-layout-color3: #383838;\n",
              "                }\n",
              "\n",
              "                .geemap-colab {\n",
              "                    background-color: var(--colab-primary-surface-color, white);\n",
              "                }\n",
              "\n",
              "                .geemap-colab .jupyter-button {\n",
              "                    --jp-layout-color3: var(--colab-primary-surface-color, white);\n",
              "                }\n",
              "            </style>\n",
              "            "
            ]
          },
          "metadata": {}
        }
      ]
    },
    {
      "cell_type": "code",
      "source": [
        "region = ee.Geometry.Polygon(\n",
        "    [[[80.1945, 17.7844],\n",
        "    [80.1945, 24.1039],\n",
        "    [84.4094, 24.1039],\n",
        "    [84.4094, 17.7844],\n",
        "    [80.1945, 17.7844]]],\n",
        "    None,\n",
        "    False)"
      ],
      "metadata": {
        "colab": {
          "base_uri": "https://localhost:8080/",
          "height": 17
        },
        "id": "NWaWOZOK1rQw",
        "outputId": "e5a9b73c-605a-405d-a307-80ee3fdac132"
      },
      "execution_count": 60,
      "outputs": [
        {
          "output_type": "display_data",
          "data": {
            "text/plain": [
              "<IPython.core.display.HTML object>"
            ],
            "text/html": [
              "\n",
              "            <style>\n",
              "                .geemap-dark {\n",
              "                    --jp-widgets-color: white;\n",
              "                    --jp-widgets-label-color: white;\n",
              "                    --jp-ui-font-color1: white;\n",
              "                    --jp-layout-color2: #454545;\n",
              "                    background-color: #383838;\n",
              "                }\n",
              "\n",
              "                .geemap-dark .jupyter-button {\n",
              "                    --jp-layout-color3: #383838;\n",
              "                }\n",
              "\n",
              "                .geemap-colab {\n",
              "                    background-color: var(--colab-primary-surface-color, white);\n",
              "                }\n",
              "\n",
              "                .geemap-colab .jupyter-button {\n",
              "                    --jp-layout-color3: var(--colab-primary-surface-color, white);\n",
              "                }\n",
              "            </style>\n",
              "            "
            ]
          },
          "metadata": {}
        }
      ]
    },
    {
      "cell_type": "markdown",
      "source": [
        "**adds a new property called \"doy\" (Day of Year) to each image in the MODIS NDVI collection**\n",
        "\n",
        "ndvi is an ee.ImageCollection, meaning it contains multiple images over time.\n",
        ".map(lambda img: ...) applies the function to each image in the collection.\n",
        "\n",
        " **Extracting the Day of Year (DOY)**\n",
        "\n",
        " img.get('system:time_start'): Retrieves the acquisition timestamp of the image.\n",
        "ee.Date(...): Converts this timestamp into a date object.\n",
        ".getRelative('day', 'year'): Extracts the day of the year (DOY) from the date\n",
        "\n",
        "**Storing the DOY as a Property**\n",
        "\n",
        ".set('doy', value): Assigns the computed DOY as a new property in each image.\n",
        "Now, each image in ndvi_india has an extra metadata field called 'doy'.\n",
        "\n",
        "\n",
        "\n"
      ],
      "metadata": {
        "id": "VD7rKm1Tt30U"
      }
    },
    {
      "cell_type": "code",
      "source": [
        "ndvi_india = ndvi.map(lambda img: img.set('doy',\n",
        "ee.Date(img.get('system:time_start')).getRelative('day', 'year')))"
      ],
      "metadata": {
        "colab": {
          "base_uri": "https://localhost:8080/",
          "height": 17
        },
        "id": "fBi4v-2-qX60",
        "outputId": "570999d9-a5c6-4e04-fffe-1347061b13a1"
      },
      "execution_count": 61,
      "outputs": [
        {
          "output_type": "display_data",
          "data": {
            "text/plain": [
              "<IPython.core.display.HTML object>"
            ],
            "text/html": [
              "\n",
              "            <style>\n",
              "                .geemap-dark {\n",
              "                    --jp-widgets-color: white;\n",
              "                    --jp-widgets-label-color: white;\n",
              "                    --jp-ui-font-color1: white;\n",
              "                    --jp-layout-color2: #454545;\n",
              "                    background-color: #383838;\n",
              "                }\n",
              "\n",
              "                .geemap-dark .jupyter-button {\n",
              "                    --jp-layout-color3: #383838;\n",
              "                }\n",
              "\n",
              "                .geemap-colab {\n",
              "                    background-color: var(--colab-primary-surface-color, white);\n",
              "                }\n",
              "\n",
              "                .geemap-colab .jupyter-button {\n",
              "                    --jp-layout-color3: var(--colab-primary-surface-color, white);\n",
              "                }\n",
              "            </style>\n",
              "            "
            ]
          },
          "metadata": {}
        }
      ]
    },
    {
      "cell_type": "markdown",
      "source": [
        "1. ndvi.map(...) - Applying a Function to Each Image\n",
        "ndvi is an ImageCollection containing multiple NDVI images over time.\n",
        ".map(lambda img: ...) applies the function to each image in the collection.\n",
        "2. Extracting the \"Day of Year\" (DOY)\n",
        "\n",
        "img.get('system:time_start') → Retrieves the acquisition date of each image.\n",
        "ee.Date(...) → Converts the timestamp into an Earth Engine Date object.\n",
        ".getRelative('day', 'year') → Extracts the day of the year (DOY) (ranging from 1 to 365/366\n",
        "\n",
        ".set('doy', value) → Assigns the computed DOY as a new property in each image.\n",
        "Now, each image in ndvi_india has an extra field 'doy'."
      ],
      "metadata": {
        "id": "wHwNXY-GuQJ8"
      }
    },
    {
      "cell_type": "code",
      "source": [
        "distinctDOY = ndvi_india.filterDate('2000-02-18', '2001-02-18'); #filtering the MODIS NDVI ImageCollection (ndvi_india) to include only images from February 18, 2000, to February 18, 2001."
      ],
      "metadata": {
        "colab": {
          "base_uri": "https://localhost:8080/",
          "height": 17
        },
        "id": "35LtyUUisaAG",
        "outputId": "3b43d80c-f0d1-46ac-a4d0-dc0eee310292"
      },
      "execution_count": 62,
      "outputs": [
        {
          "output_type": "display_data",
          "data": {
            "text/plain": [
              "<IPython.core.display.HTML object>"
            ],
            "text/html": [
              "\n",
              "            <style>\n",
              "                .geemap-dark {\n",
              "                    --jp-widgets-color: white;\n",
              "                    --jp-widgets-label-color: white;\n",
              "                    --jp-ui-font-color1: white;\n",
              "                    --jp-layout-color2: #454545;\n",
              "                    background-color: #383838;\n",
              "                }\n",
              "\n",
              "                .geemap-dark .jupyter-button {\n",
              "                    --jp-layout-color3: #383838;\n",
              "                }\n",
              "\n",
              "                .geemap-colab {\n",
              "                    background-color: var(--colab-primary-surface-color, white);\n",
              "                }\n",
              "\n",
              "                .geemap-colab .jupyter-button {\n",
              "                    --jp-layout-color3: var(--colab-primary-surface-color, white);\n",
              "                }\n",
              "            </style>\n",
              "            "
            ]
          },
          "metadata": {}
        }
      ]
    },
    {
      "cell_type": "code",
      "source": [
        "#joins two ImageCollections (distinctDOY and ndvi_india) based on the \"doy\" (Day of Year) property. This is useful for comparing NDVI images from different years but for the same day of the year.\n",
        "\n",
        "filter = ee.Filter.equals(leftField = 'doy', rightField = 'doy')\n",
        "join = ee.Join.saveAll('doy_matches')\n",
        "joincol = ee.ImageCollection(join.apply(distinctDOY,ndvi_india,filter))"
      ],
      "metadata": {
        "colab": {
          "base_uri": "https://localhost:8080/",
          "height": 17
        },
        "id": "1LdrNL0Asq_u",
        "outputId": "d6b2a2e2-1469-4a4b-b3ae-c3bbbe841a16"
      },
      "execution_count": 63,
      "outputs": [
        {
          "output_type": "display_data",
          "data": {
            "text/plain": [
              "<IPython.core.display.HTML object>"
            ],
            "text/html": [
              "\n",
              "            <style>\n",
              "                .geemap-dark {\n",
              "                    --jp-widgets-color: white;\n",
              "                    --jp-widgets-label-color: white;\n",
              "                    --jp-ui-font-color1: white;\n",
              "                    --jp-layout-color2: #454545;\n",
              "                    background-color: #383838;\n",
              "                }\n",
              "\n",
              "                .geemap-dark .jupyter-button {\n",
              "                    --jp-layout-color3: #383838;\n",
              "                }\n",
              "\n",
              "                .geemap-colab {\n",
              "                    background-color: var(--colab-primary-surface-color, white);\n",
              "                }\n",
              "\n",
              "                .geemap-colab .jupyter-button {\n",
              "                    --jp-layout-color3: var(--colab-primary-surface-color, white);\n",
              "                }\n",
              "            </style>\n",
              "            "
            ]
          },
          "metadata": {}
        }
      ]
    },
    {
      "cell_type": "markdown",
      "source": [
        "**Mapping Over the Joined Collection**\n",
        "\n",
        "joincol contains images where each has a list of matched NDVI images ('doy_matches') from different years.\n",
        "\n",
        "**Extracting NDVI Images for Each DOY**\n",
        "\n",
        "get('doy_matches'): Retrieves the list of NDVI images (matched by DOY).\n",
        "ee.ImageCollection.fromImages(...): Converts this list into an ImageCollection.\n",
        "\n",
        "**Computing the Mean NDVI for Each DOY**\n",
        "\n",
        "reduce(ee.Reducer.mean()): Computes the mean NDVI across all years for a given DOY.\n",
        "\n",
        "**Storing the Mean NDVI as an ImageCollectio**n\n",
        "\n",
        "The output comp is now an ImageCollection where:\n",
        "Each image represents the average NDVI for a given DOY across multiple years.\n",
        "\n",
        "\n"
      ],
      "metadata": {
        "id": "Sd1mkYg2v04h"
      }
    },
    {
      "cell_type": "code",
      "source": [
        "# computes the mean NDVI for each \"Day of Year\" (DOY) across multiple years #Extracting matched NDVI images for the same DOY across different years.\n",
        "#Averaging NDVI values for that specific DOY.\n",
        "\n",
        "\n",
        "comp = joincol.map(lambda img: ee.ImageCollection.fromImages(img.get('doy_matches')).reduce(ee.Reducer.mean()))"
      ],
      "metadata": {
        "colab": {
          "base_uri": "https://localhost:8080/",
          "height": 17
        },
        "id": "tfzP1kGIweFK",
        "outputId": "e8853337-4261-42c8-9eda-450f73065b18"
      },
      "execution_count": 64,
      "outputs": [
        {
          "output_type": "display_data",
          "data": {
            "text/plain": [
              "<IPython.core.display.HTML object>"
            ],
            "text/html": [
              "\n",
              "            <style>\n",
              "                .geemap-dark {\n",
              "                    --jp-widgets-color: white;\n",
              "                    --jp-widgets-label-color: white;\n",
              "                    --jp-ui-font-color1: white;\n",
              "                    --jp-layout-color2: #454545;\n",
              "                    background-color: #383838;\n",
              "                }\n",
              "\n",
              "                .geemap-dark .jupyter-button {\n",
              "                    --jp-layout-color3: #383838;\n",
              "                }\n",
              "\n",
              "                .geemap-colab {\n",
              "                    background-color: var(--colab-primary-surface-color, white);\n",
              "                }\n",
              "\n",
              "                .geemap-colab .jupyter-button {\n",
              "                    --jp-layout-color3: var(--colab-primary-surface-color, white);\n",
              "                }\n",
              "            </style>\n",
              "            "
            ]
          },
          "metadata": {}
        }
      ]
    },
    {
      "cell_type": "markdown",
      "source": [
        "min': 0.0, 'max': 9000.0\n",
        "\n",
        "Sets the value range for NDVI visualization.\n",
        "NDVI values range from -1 to 1, but MODIS NDVI is scaled by 10,000, so it ranges from 0 to 10,000.\n"
      ],
      "metadata": {
        "id": "AQfS-TkpwvRE"
      }
    },
    {
      "cell_type": "code",
      "source": [
        "visparams = {\n",
        "  'min': 0.0,\n",
        "  'max': 9000.0,'palette': [\n",
        "    'FFFFFF', 'CE7E45', 'DF923D', 'F1B555', 'FCD163', '99B718', '74A901',\n",
        "    '66A000', '529400', '3E8601', '207401', '056201', '004C00', '023B01',\n",
        "    '012E01', '011D01', '011301'],}"
      ],
      "metadata": {
        "colab": {
          "base_uri": "https://localhost:8080/",
          "height": 17
        },
        "id": "wuaSkhBDzCWV",
        "outputId": "5afd682d-f695-431d-be89-6d3856f732be"
      },
      "execution_count": 65,
      "outputs": [
        {
          "output_type": "display_data",
          "data": {
            "text/plain": [
              "<IPython.core.display.HTML object>"
            ],
            "text/html": [
              "\n",
              "            <style>\n",
              "                .geemap-dark {\n",
              "                    --jp-widgets-color: white;\n",
              "                    --jp-widgets-label-color: white;\n",
              "                    --jp-ui-font-color1: white;\n",
              "                    --jp-layout-color2: #454545;\n",
              "                    background-color: #383838;\n",
              "                }\n",
              "\n",
              "                .geemap-dark .jupyter-button {\n",
              "                    --jp-layout-color3: #383838;\n",
              "                }\n",
              "\n",
              "                .geemap-colab {\n",
              "                    background-color: var(--colab-primary-surface-color, white);\n",
              "                }\n",
              "\n",
              "                .geemap-colab .jupyter-button {\n",
              "                    --jp-layout-color3: var(--colab-primary-surface-color, white);\n",
              "                }\n",
              "            </style>\n",
              "            "
            ]
          },
          "metadata": {}
        }
      ]
    },
    {
      "cell_type": "markdown",
      "source": [
        "**create a visualized NDVI image collection where:**\n",
        "\n",
        "Each image in comp is converted to an RGB visualization using visualize().\n",
        "The images are clipped to the boundary of ntl_bdy (likely a feature collection representing a specific area)."
      ],
      "metadata": {
        "id": "2tfK_bIqw7Np"
      }
    },
    {
      "cell_type": "code",
      "source": [
        "rgbVis = comp.map(lambda img: img.visualize(bands=['NDVI_mean'], **visparams).clip(cg_bdy))"
      ],
      "metadata": {
        "colab": {
          "base_uri": "https://localhost:8080/",
          "height": 17
        },
        "id": "BhzDEkIZyhC0",
        "outputId": "2a4201e1-fdd7-4483-fe7d-cd91f2399ff8"
      },
      "execution_count": 66,
      "outputs": [
        {
          "output_type": "display_data",
          "data": {
            "text/plain": [
              "<IPython.core.display.HTML object>"
            ],
            "text/html": [
              "\n",
              "            <style>\n",
              "                .geemap-dark {\n",
              "                    --jp-widgets-color: white;\n",
              "                    --jp-widgets-label-color: white;\n",
              "                    --jp-ui-font-color1: white;\n",
              "                    --jp-layout-color2: #454545;\n",
              "                    background-color: #383838;\n",
              "                }\n",
              "\n",
              "                .geemap-dark .jupyter-button {\n",
              "                    --jp-layout-color3: #383838;\n",
              "                }\n",
              "\n",
              "                .geemap-colab {\n",
              "                    background-color: var(--colab-primary-surface-color, white);\n",
              "                }\n",
              "\n",
              "                .geemap-colab .jupyter-button {\n",
              "                    --jp-layout-color3: var(--colab-primary-surface-color, white);\n",
              "                }\n",
              "            </style>\n",
              "            "
            ]
          },
          "metadata": {}
        }
      ]
    },
    {
      "cell_type": "markdown",
      "source": [
        "** Code for GIF Parameters This dictionary defines the parameters for creating an animated GIF from an ImageCollection (e.g., your rgbVis collection of NDVI images).**\n",
        "\n",
        "'region': region\n",
        "\n",
        "region defines the geographical area for the GIF. It could be a geometry or bounding box (likely the boundary of cg_bdy or any region you are analyzing).\n",
        "\n",
        "'dimensions': 600\n",
        "\n",
        "This defines the size of the output GIF in pixels.\n",
        "600 means the GIF will be 600x600 pixels in size.\n",
        "'crs': 'EPSG:4326'\n",
        "\n",
        "Specifies the coordinate reference system (CRS) for the GIF.\n",
        "'EPSG:4326' refers to the WGS84 geographic coordinate system (latitude/longitude).\n",
        "'framesPerSecond': 10\n",
        "\n",
        "Defines how many frames per second will be in the GIF.\n",
        "10 FPS means the GIF will have a smooth animation, with each frame displayed for 0.1 seconds.\n",
        "'format': 'gif'\n",
        "\n",
        "Specifies that the output format will be a GIF file.\n",
        "\n",
        "\n"
      ],
      "metadata": {
        "id": "L6P7kFOow_Gk"
      }
    },
    {
      "cell_type": "code",
      "source": [
        "gifparams ={'region': region,\n",
        "            'dimensions': 600,\n",
        "            'crs': 'EPSG:4326',\n",
        "            'framesPerSecond': 10,\n",
        "            'format': 'gif'}"
      ],
      "metadata": {
        "colab": {
          "base_uri": "https://localhost:8080/",
          "height": 17
        },
        "id": "5GwLFQADzEs0",
        "outputId": "cb0a7b91-38f7-4222-d36c-9f5f958493d7"
      },
      "execution_count": 73,
      "outputs": [
        {
          "output_type": "display_data",
          "data": {
            "text/plain": [
              "<IPython.core.display.HTML object>"
            ],
            "text/html": [
              "\n",
              "            <style>\n",
              "                .geemap-dark {\n",
              "                    --jp-widgets-color: white;\n",
              "                    --jp-widgets-label-color: white;\n",
              "                    --jp-ui-font-color1: white;\n",
              "                    --jp-layout-color2: #454545;\n",
              "                    background-color: #383838;\n",
              "                }\n",
              "\n",
              "                .geemap-dark .jupyter-button {\n",
              "                    --jp-layout-color3: #383838;\n",
              "                }\n",
              "\n",
              "                .geemap-colab {\n",
              "                    background-color: var(--colab-primary-surface-color, white);\n",
              "                }\n",
              "\n",
              "                .geemap-colab .jupyter-button {\n",
              "                    --jp-layout-color3: var(--colab-primary-surface-color, white);\n",
              "                }\n",
              "            </style>\n",
              "            "
            ]
          },
          "metadata": {}
        }
      ]
    },
    {
      "cell_type": "markdown",
      "source": [
        "rgbVis is ImageCollection of visualized NDVI images.\n",
        "getVideoThumbURL(gifparams) will generate a URL for the animated GIF using the parameters defined in gifparams."
      ],
      "metadata": {
        "id": "O07wvqpixfDr"
      }
    },
    {
      "cell_type": "code",
      "source": [
        "print(rgbVis.getVideoThumbURL(gifparams))"
      ],
      "metadata": {
        "colab": {
          "base_uri": "https://localhost:8080/",
          "height": 34
        },
        "id": "cc5hQ_l11Scv",
        "outputId": "1d2d26dd-71d9-4a4a-a0cc-a34cbce02c32"
      },
      "execution_count": 74,
      "outputs": [
        {
          "output_type": "display_data",
          "data": {
            "text/plain": [
              "<IPython.core.display.HTML object>"
            ],
            "text/html": [
              "\n",
              "            <style>\n",
              "                .geemap-dark {\n",
              "                    --jp-widgets-color: white;\n",
              "                    --jp-widgets-label-color: white;\n",
              "                    --jp-ui-font-color1: white;\n",
              "                    --jp-layout-color2: #454545;\n",
              "                    background-color: #383838;\n",
              "                }\n",
              "\n",
              "                .geemap-dark .jupyter-button {\n",
              "                    --jp-layout-color3: #383838;\n",
              "                }\n",
              "\n",
              "                .geemap-colab {\n",
              "                    background-color: var(--colab-primary-surface-color, white);\n",
              "                }\n",
              "\n",
              "                .geemap-colab .jupyter-button {\n",
              "                    --jp-layout-color3: var(--colab-primary-surface-color, white);\n",
              "                }\n",
              "            </style>\n",
              "            "
            ]
          },
          "metadata": {}
        },
        {
          "output_type": "stream",
          "name": "stdout",
          "text": [
            "https://earthengine.googleapis.com/v1/projects/ee-moneshbathre/videoThumbnails/8616c08f9abdd6e48c6b9c2326985ad0-092271754b29e327baed7fee5b815a10:getPixels\n"
          ]
        }
      ]
    }
  ]
}